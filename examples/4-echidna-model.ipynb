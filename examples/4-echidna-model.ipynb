{
 "cells": [
  {
   "cell_type": "code",
   "execution_count": 1,
   "id": "2a868957-763f-4204-8d50-81adeeb34aee",
   "metadata": {},
   "outputs": [],
   "source": [
    "import scanpy as sc\n",
    "import pyro\n",
    "import sys\n",
    "sys.path.append(\"../\")"
   ]
  },
  {
   "cell_type": "markdown",
   "id": "6f74cee8-6d5a-4c32-a5cf-616f27b10904",
   "metadata": {},
   "source": [
    "## Example 4: Echidna & Pyro\n",
    "\n",
    "In this tutorial, we show you how to use Echidna more flexibly by accessing the underlying data in the model. This will be useful if you have prior familiarity with Pyro and aim to perform more custom work."
   ]
  },
  {
   "cell_type": "code",
   "execution_count": 2,
   "id": "b04fdaba-3d91-4620-ae2c-7fb05764202d",
   "metadata": {},
   "outputs": [],
   "source": [
    "import echidna as ec"
   ]
  },
  {
   "cell_type": "markdown",
   "id": "7b21658b-026d-486b-8fe8-f73606993a93",
   "metadata": {},
   "source": [
    "As in the previous example, we load our AnnData from our previous run. Keep in mind that the copy number data is now saved in `.obs`."
   ]
  },
  {
   "cell_type": "code",
   "execution_count": 3,
   "id": "d22d2a21-ed67-47db-a692-6635e5216a8d",
   "metadata": {},
   "outputs": [],
   "source": [
    "adata = sc.read_h5ad(\"data/R310_MT_SAVE.h5ad\")"
   ]
  },
  {
   "cell_type": "markdown",
   "id": "0eb0a1d1-c2cc-4a0f-81c9-97f233a0bfa5",
   "metadata": {},
   "source": [
    "Loading a model reads in a pickled model object and loads the Pyro parameter store. We can see that this is true by looking at the keys in the global parameter store."
   ]
  },
  {
   "cell_type": "code",
   "execution_count": 4,
   "id": "12870961-6c8b-4cf5-83d3-965393123e0f",
   "metadata": {},
   "outputs": [],
   "source": [
    "echidna = ec.tl.load_model(adata)"
   ]
  },
  {
   "cell_type": "code",
   "execution_count": 5,
   "id": "290ce070-ffbb-42a9-abc8-101f0c3e45c2",
   "metadata": {},
   "outputs": [
    {
     "data": {
      "text/plain": [
       "dict_keys(['eta_mean', 'c_shape', 'scale_shape', 'scale_rate', 'corr_loc', 'corr_scale'])"
      ]
     },
     "execution_count": 5,
     "metadata": {},
     "output_type": "execute_result"
    }
   ],
   "source": [
    "pyro.get_param_store().keys()"
   ]
  },
  {
   "cell_type": "markdown",
   "id": "51d3deab-4a84-4845-9fa9-0dafd477a29a",
   "metadata": {},
   "source": [
    "If you make changes to the model object or param store, you can save those changes with the following function:"
   ]
  },
  {
   "cell_type": "code",
   "execution_count": 6,
   "id": "e0396c7c-873a-43fa-ae8d-60ae870513fc",
   "metadata": {},
   "outputs": [
    {
     "name": "stderr",
     "output_type": "stream",
     "text": [
      "2024-07-24 03:04:03,272 | INFO : Saving echidna model with run_id 20240724-030403.\n"
     ]
    }
   ],
   "source": [
    "ec.tl.save_model(adata, echidna, overwrite=False)"
   ]
  },
  {
   "cell_type": "markdown",
   "id": "ad804394-b917-4531-915e-f6d3cb14ab1a",
   "metadata": {},
   "source": [
    "The `echidna` object will contain the configuartion, the model and guide functions to run a forward pass through the model, as well as Torch tensors for the ground truth $\\eta$, $c$ and $\\Sigma$ from training."
   ]
  },
  {
   "cell_type": "code",
   "execution_count": 6,
   "id": "574eba60-197b-4783-b94f-bde49c7f2e93",
   "metadata": {},
   "outputs": [],
   "source": [
    "eta, c, cov = echidna.eta_posterior, echidna.c_posterior, echidna.cov_posterior"
   ]
  },
  {
   "cell_type": "markdown",
   "id": "450c2f72-1868-49a9-97d2-6c1547e3073c",
   "metadata": {},
   "source": [
    "Let's also see how we build the data tensors to do a forward pass. Echidna does this under-the-hood for you for safety purposes, but it may be helpful to do have access to the actual tensors. "
   ]
  },
  {
   "cell_type": "code",
   "execution_count": 7,
   "id": "e7d5f6e9-b4c0-403b-9be7-600501bc8e6f",
   "metadata": {},
   "outputs": [],
   "source": [
    "data = ec.tl.build_torch_tensors(adata, echidna.config)"
   ]
  },
  {
   "cell_type": "markdown",
   "id": "50bc24a0-62c2-4c48-b6f9-ba28b0551bde",
   "metadata": {},
   "source": [
    "A pass of the data through the model will return the X and W tensors passed through the model, after a full sampling of the model."
   ]
  },
  {
   "cell_type": "code",
   "execution_count": 8,
   "id": "2832889c-6b3b-4bb9-8f02-6781b19206cf",
   "metadata": {},
   "outputs": [],
   "source": [
    "echidna.model(*data)"
   ]
  },
  {
   "cell_type": "code",
   "execution_count": 9,
   "id": "68efcf66-f9c6-4c1b-b578-a1c605ad32ee",
   "metadata": {},
   "outputs": [],
   "source": [
    "echidna.guide(*data)"
   ]
  },
  {
   "cell_type": "markdown",
   "id": "3d9c2395-7b48-400a-97af-b3a15d2fbb36",
   "metadata": {},
   "source": [
    "This function uses poutine to trace the guide with the data, replay the model with that guide, and finally return nodes from the trace of the replay with the data. See for example a sampled $\\eta$ compared to the ground truth of many averaged samples."
   ]
  },
  {
   "cell_type": "code",
   "execution_count": 10,
   "id": "5381251c-42af-4c2e-9ecb-13ac8e5b884b",
   "metadata": {},
   "outputs": [],
   "source": [
    "learned_params = ec.tl.get_learned_params(echidna, data)"
   ]
  },
  {
   "cell_type": "code",
   "execution_count": 11,
   "id": "5c8eedcc-49fa-4756-9751-54bcc1a4a68d",
   "metadata": {},
   "outputs": [
    {
     "data": {
      "text/plain": [
       "(tensor([[0.9383, 3.1680, 0.7946,  ..., 3.2735, 1.2649, 1.5849],\n",
       "         [3.6889, 3.6525, 1.0541,  ..., 2.6823, 0.2618, 0.9038],\n",
       "         [2.5289, 1.5187, 1.4478,  ..., 1.8989, 2.7365, 3.3961],\n",
       "         ...,\n",
       "         [4.6113, 0.2153, 2.0284,  ..., 4.4695, 1.0533, 1.8157],\n",
       "         [0.9125, 2.0520, 3.6108,  ..., 4.8281, 0.9271, 1.8465],\n",
       "         [1.0457, 3.7517, 1.2641,  ..., 0.6974, 0.5060, 0.4976]],\n",
       "        device='cuda:0', grad_fn=<AddBackward0>),\n",
       " tensor([[2.0112, 2.0578, 2.5723,  ..., 2.6592, 2.1364, 2.1962],\n",
       "         [2.6046, 2.1048, 2.1410,  ..., 1.9683, 2.3005, 2.4361],\n",
       "         [2.1090, 1.9782, 2.1131,  ..., 1.7650, 2.2017, 2.3996],\n",
       "         ...,\n",
       "         [3.0124, 2.6707, 2.0432,  ..., 2.4128, 3.1363, 3.3743],\n",
       "         [2.0109, 2.2372, 2.1957,  ..., 1.9801, 2.5291, 2.2600],\n",
       "         [2.0114, 2.3963, 2.1225,  ..., 2.1832, 2.5045, 2.3407]],\n",
       "        device='cuda:0', requires_grad=True))"
      ]
     },
     "execution_count": 11,
     "metadata": {},
     "output_type": "execute_result"
    }
   ],
   "source": [
    "learned_params[\"eta\"][\"value\"], eta"
   ]
  },
  {
   "cell_type": "markdown",
   "id": "e8a6af7a-b696-4ae3-bb91-21a69a6d89ed",
   "metadata": {},
   "source": [
    "The rest of the problem, as they say, is behind the keyboard."
   ]
  }
 ],
 "metadata": {
  "kernelspec": {
   "display_name": "echidna",
   "language": "python",
   "name": "echidna"
  },
  "language_info": {
   "codemirror_mode": {
    "name": "ipython",
    "version": 3
   },
   "file_extension": ".py",
   "mimetype": "text/x-python",
   "name": "python",
   "nbconvert_exporter": "python",
   "pygments_lexer": "ipython3",
   "version": "3.11.4"
  }
 },
 "nbformat": 4,
 "nbformat_minor": 5
}
