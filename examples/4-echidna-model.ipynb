{
 "cells": [
  {
   "cell_type": "code",
   "execution_count": 1,
   "id": "2a868957-763f-4204-8d50-81adeeb34aee",
   "metadata": {},
   "outputs": [],
   "source": [
    "import scanpy as sc\n",
    "import pyro\n",
    "import sys\n",
    "sys.path.append(\"../\")"
   ]
  },
  {
   "cell_type": "markdown",
   "id": "6f74cee8-6d5a-4c32-a5cf-616f27b10904",
   "metadata": {},
   "source": [
    "## Example 4: Echidna & Pyro\n",
    "\n",
    "In this tutorial, we show you how to use Echidna more flexibly by accessing the underlying data in the model. This will be useful if you have prior familiarity with Pyro and aim to perform more custom work."
   ]
  },
  {
   "cell_type": "code",
   "execution_count": 2,
   "id": "b04fdaba-3d91-4620-ae2c-7fb05764202d",
   "metadata": {},
   "outputs": [],
   "source": [
    "import echidna as ec\n",
    "ec.pl.activate_plot_settings()"
   ]
  },
  {
   "cell_type": "markdown",
   "id": "7b21658b-026d-486b-8fe8-f73606993a93",
   "metadata": {},
   "source": [
    "As in the previous example, we load our AnnData from our previous run. Keep in mind that the copy number data is now saved in `.obs`."
   ]
  },
  {
   "cell_type": "code",
   "execution_count": 3,
   "id": "d22d2a21-ed67-47db-a692-6635e5216a8d",
   "metadata": {},
   "outputs": [],
   "source": [
    "adata = sc.read_h5ad(\"data/F01_on_echidna.h5\")"
   ]
  },
  {
   "cell_type": "markdown",
   "id": "0eb0a1d1-c2cc-4a0f-81c9-97f233a0bfa5",
   "metadata": {},
   "source": [
    "Loading a model reads in a pickled model object and loads the Pyro parameter store. We can see that this is true by looking at the keys in the global parameter store."
   ]
  },
  {
   "cell_type": "code",
   "execution_count": 4,
   "id": "12870961-6c8b-4cf5-83d3-965393123e0f",
   "metadata": {},
   "outputs": [],
   "source": [
    "echidna = ec.tl.load_model(adata)"
   ]
  },
  {
   "cell_type": "code",
   "execution_count": 5,
   "id": "290ce070-ffbb-42a9-abc8-101f0c3e45c2",
   "metadata": {},
   "outputs": [
    {
     "data": {
      "text/plain": [
       "dict_keys(['eta_mean', 'c_shape', 'scale_shape', 'scale_rate', 'corr_loc', 'corr_scale'])"
      ]
     },
     "execution_count": 5,
     "metadata": {},
     "output_type": "execute_result"
    }
   ],
   "source": [
    "pyro.get_param_store().keys()"
   ]
  },
  {
   "cell_type": "markdown",
   "id": "51d3deab-4a84-4845-9fa9-0dafd477a29a",
   "metadata": {},
   "source": [
    "If you make changes to the model object or param store, you can save those changes with the following function:"
   ]
  },
  {
   "cell_type": "code",
   "execution_count": 6,
   "id": "e0396c7c-873a-43fa-ae8d-60ae870513fc",
   "metadata": {},
   "outputs": [
    {
     "name": "stderr",
     "output_type": "stream",
     "text": [
      "2024-07-24 03:04:03,272 | INFO : Saving echidna model with run_id 20240724-030403.\n"
     ]
    }
   ],
   "source": [
    "ec.tl.save_model(adata, echidna, overwrite=False)"
   ]
  },
  {
   "cell_type": "markdown",
   "id": "ad804394-b917-4531-915e-f6d3cb14ab1a",
   "metadata": {},
   "source": [
    "The `echidna` object will contain the configuartion, the model and guide functions to run a forward pass through the model, as well as Torch tensors for the ground truth $\\eta$, $c$ and $\\Sigma$ from training."
   ]
  },
  {
   "cell_type": "code",
   "execution_count": 7,
   "id": "574eba60-197b-4783-b94f-bde49c7f2e93",
   "metadata": {},
   "outputs": [],
   "source": [
    "eta, c, cov = echidna.eta_ground_truth, echidna.c_ground_truth, echidna.cov_ground_truth"
   ]
  },
  {
   "cell_type": "markdown",
   "id": "450c2f72-1868-49a9-97d2-6c1547e3073c",
   "metadata": {},
   "source": [
    "Let's also see how we build the data tensors to do a forward pass. Echidna does this under-the-hood for you for safety purposes, but it may be helpful to do have access to the actual tensors. "
   ]
  },
  {
   "cell_type": "code",
   "execution_count": 8,
   "id": "e7d5f6e9-b4c0-403b-9be7-600501bc8e6f",
   "metadata": {},
   "outputs": [],
   "source": [
    "data = ec.tl.build_torch_tensors(adata, echidna.config)"
   ]
  },
  {
   "cell_type": "markdown",
   "id": "50bc24a0-62c2-4c48-b6f9-ba28b0551bde",
   "metadata": {},
   "source": [
    "A pass of the data through the model will return the X and W tensors passed through the model, after a full sampling of the model."
   ]
  },
  {
   "cell_type": "code",
   "execution_count": 9,
   "id": "2832889c-6b3b-4bb9-8f02-6781b19206cf",
   "metadata": {},
   "outputs": [
    {
     "data": {
      "text/plain": [
       "(tensor([[  4.,   2.,   0.,  ..., 217.,   0.,   2.],\n",
       "         [  4.,   1.,   0.,  ..., 312.,   0.,   4.],\n",
       "         [  4.,   2.,   1.,  ..., 397.,   1.,   7.],\n",
       "         ...,\n",
       "         [  0.,   0.,   0.,  ...,   2.,   0.,   0.],\n",
       "         [  0.,   0.,   0.,  ...,   3.,   0.,   0.],\n",
       "         [  1.,   0.,   0.,  ...,   5.,   0.,   0.]], device='cuda:0'),\n",
       " tensor([1., 1., 1.,  ..., 3., 3., 3.], device='cuda:0'))"
      ]
     },
     "execution_count": 9,
     "metadata": {},
     "output_type": "execute_result"
    }
   ],
   "source": [
    "echidna.model(*data)"
   ]
  },
  {
   "cell_type": "code",
   "execution_count": 10,
   "id": "68efcf66-f9c6-4c1b-b578-a1c605ad32ee",
   "metadata": {},
   "outputs": [],
   "source": [
    "echidna.guide(*data)"
   ]
  },
  {
   "cell_type": "markdown",
   "id": "3d9c2395-7b48-400a-97af-b3a15d2fbb36",
   "metadata": {},
   "source": [
    "This function uses poutine to trace the guide with the data, replay the model with that guide, and finally return nodes from the trace of the replay with the data. See for example a sampled $\\eta$ compared to the ground truth of many averaged samples."
   ]
  },
  {
   "cell_type": "code",
   "execution_count": 11,
   "id": "5381251c-42af-4c2e-9ecb-13ac8e5b884b",
   "metadata": {},
   "outputs": [],
   "source": [
    "learned_params = ec.tl.get_learned_params(echidna, data)"
   ]
  },
  {
   "cell_type": "code",
   "execution_count": 12,
   "id": "5c8eedcc-49fa-4756-9751-54bcc1a4a68d",
   "metadata": {},
   "outputs": [
    {
     "data": {
      "text/plain": [
       "(tensor([[ 2.4991e-01, -1.4804e-01, -7.3896e-01,  ..., -1.2036e+00,\n",
       "          -1.7756e-01, -2.6762e+00],\n",
       "         [ 1.5998e-01,  2.1188e-01,  1.4875e-01,  ..., -4.9528e-01,\n",
       "           7.6729e-04, -2.7873e-01],\n",
       "         [ 4.9852e-01,  3.6710e-01, -9.1138e-02,  ..., -1.8437e+00,\n",
       "           8.9070e-01, -8.3446e-01],\n",
       "         ...,\n",
       "         [ 2.1767e+00,  2.3594e+00,  2.3668e+00,  ...,  2.3188e+00,\n",
       "           2.4001e+00,  2.7859e+00],\n",
       "         [ 2.1418e+00,  2.3149e+00,  1.8691e+00,  ...,  2.4096e+00,\n",
       "           4.3547e-01,  1.0031e+00],\n",
       "         [ 2.2209e+00,  2.1759e+00,  2.2528e+00,  ...,  1.4022e+00,\n",
       "          -4.2894e-01,  1.3390e-01]], device='cuda:0', grad_fn=<AddBackward0>),\n",
       " tensor([[0.9113, 0.7697, 0.7593,  ..., 1.9952, 2.3261, 2.2024],\n",
       "         [0.7013, 0.6799, 0.7575,  ..., 2.2563, 2.2787, 2.1863],\n",
       "         [0.4156, 0.7305, 0.6524,  ..., 2.4473, 1.8369, 1.9346],\n",
       "         ...,\n",
       "         [0.2455, 0.6595, 0.6825,  ..., 2.7323, 2.3762, 1.7365],\n",
       "         [0.9083, 0.5716, 1.5581,  ..., 2.1611, 1.2551, 1.2149],\n",
       "         [0.1629, 0.5922, 0.7302,  ..., 3.8821, 2.5708, 0.7405]],\n",
       "        device='cuda:0', requires_grad=True))"
      ]
     },
     "execution_count": 12,
     "metadata": {},
     "output_type": "execute_result"
    }
   ],
   "source": [
    "learned_params[\"eta\"][\"value\"], eta"
   ]
  },
  {
   "cell_type": "markdown",
   "id": "e8a6af7a-b696-4ae3-bb91-21a69a6d89ed",
   "metadata": {},
   "source": [
    "The rest of the problem, as they say, is behind the keyboard."
   ]
  }
 ],
 "metadata": {
  "kernelspec": {
   "display_name": "Python 3 (ipykernel)",
   "language": "python",
   "name": "python3"
  },
  "language_info": {
   "codemirror_mode": {
    "name": "ipython",
    "version": 3
   },
   "file_extension": ".py",
   "mimetype": "text/x-python",
   "name": "python",
   "nbconvert_exporter": "python",
   "pygments_lexer": "ipython3",
   "version": "3.11.4"
  }
 },
 "nbformat": 4,
 "nbformat_minor": 5
}
