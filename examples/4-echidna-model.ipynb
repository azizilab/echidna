{
 "cells": [
  {
   "cell_type": "code",
   "execution_count": 1,
   "id": "2a868957-763f-4204-8d50-81adeeb34aee",
   "metadata": {},
   "outputs": [
    {
     "name": "stderr",
     "output_type": "stream",
     "text": [
      "/opt/homebrew/anaconda3/envs/echidna/lib/python3.12/site-packages/tqdm/auto.py:21: TqdmWarning: IProgress not found. Please update jupyter and ipywidgets. See https://ipywidgets.readthedocs.io/en/stable/user_install.html\n",
      "  from .autonotebook import tqdm as notebook_tqdm\n"
     ]
    }
   ],
   "source": [
    "import scanpy as sc\n",
    "import pyro\n",
    "\n",
    "import sys\n",
    "sys.path.append(\"../\")"
   ]
  },
  {
   "cell_type": "markdown",
   "id": "6f74cee8-6d5a-4c32-a5cf-616f27b10904",
   "metadata": {},
   "source": [
    "## Example 4: Echidna & Pyro\n",
    "\n",
    "In this tutorial, we show you how to use Echidna more flexibly by accessing the underlying data in the model. This will be useful if you have prior familiarity with Pyro and aim to perform more custom work."
   ]
  },
  {
   "cell_type": "code",
   "execution_count": 3,
   "id": "b04fdaba-3d91-4620-ae2c-7fb05764202d",
   "metadata": {},
   "outputs": [],
   "source": [
    "import echidna as ec\n",
    "ec.pl.activate_plot_settings()\n",
    "\n",
    "%load_ext autoreload\n",
    "%autoreload 2"
   ]
  },
  {
   "cell_type": "markdown",
   "id": "7b21658b-026d-486b-8fe8-f73606993a93",
   "metadata": {},
   "source": [
    "As in the previous example, we load our AnnData from our previous run. Keep in mind that the copy number data is now saved in `.obs`."
   ]
  },
  {
   "cell_type": "code",
   "execution_count": 4,
   "id": "d22d2a21-ed67-47db-a692-6635e5216a8d",
   "metadata": {},
   "outputs": [],
   "source": [
    "adata = sc.read_h5ad(\"data/F01_echidna.h5\")"
   ]
  },
  {
   "cell_type": "markdown",
   "id": "0eb0a1d1-c2cc-4a0f-81c9-97f233a0bfa5",
   "metadata": {},
   "source": [
    "Loading a model reads in a pickled model object and loads the Pyro parameter store. We can see that this is true by looking at the keys in the global parameter store."
   ]
  },
  {
   "cell_type": "code",
   "execution_count": 5,
   "id": "12870961-6c8b-4cf5-83d3-965393123e0f",
   "metadata": {},
   "outputs": [],
   "source": [
    "echidna = ec.tl.load_model(adata)"
   ]
  },
  {
   "cell_type": "code",
   "execution_count": 6,
   "id": "290ce070-ffbb-42a9-abc8-101f0c3e45c2",
   "metadata": {},
   "outputs": [
    {
     "data": {
      "text/plain": [
       "dict_keys(['eta_mean', 'c_shape', 'scale_shape', 'scale_rate', 'corr_loc', 'corr_scale'])"
      ]
     },
     "execution_count": 6,
     "metadata": {},
     "output_type": "execute_result"
    }
   ],
   "source": [
    "pyro.get_param_store().keys()"
   ]
  },
  {
   "cell_type": "markdown",
   "id": "51d3deab-4a84-4845-9fa9-0dafd477a29a",
   "metadata": {},
   "source": [
    "If you make changes to the model object or param store, you can save those changes with the following function:"
   ]
  },
  {
   "cell_type": "code",
   "execution_count": null,
   "id": "e0396c7c-873a-43fa-ae8d-60ae870513fc",
   "metadata": {},
   "outputs": [],
   "source": [
    "ec.tl.save_model(echidna, adata, overwrite=False)"
   ]
  },
  {
   "cell_type": "markdown",
   "id": "ad804394-b917-4531-915e-f6d3cb14ab1a",
   "metadata": {},
   "source": [
    "The `echidna` object will contain the configuartion, the model and guide functions to run a forward pass through the model, as well as Torch tensors for the ground truth $\\eta$, $c$ and $\\Sigma$ from training."
   ]
  },
  {
   "cell_type": "code",
   "execution_count": 7,
   "id": "574eba60-197b-4783-b94f-bde49c7f2e93",
   "metadata": {},
   "outputs": [],
   "source": [
    "eta, c, cov = echidna.eta_ground_truth, echidna.c_ground_truth, echidna.cov_ground_truth"
   ]
  },
  {
   "cell_type": "markdown",
   "id": "450c2f72-1868-49a9-97d2-6c1547e3073c",
   "metadata": {},
   "source": [
    "Let's also see how we build the data tensors to do a forward pass. Echidna does this under-the-hood for you for safety purposes, but it may be helpful to do have access to the actual tensors. "
   ]
  },
  {
   "cell_type": "code",
   "execution_count": 8,
   "id": "e7d5f6e9-b4c0-403b-9be7-600501bc8e6f",
   "metadata": {},
   "outputs": [],
   "source": [
    "data = ec.tl.build_torch_tensors(adata, echidna.config)"
   ]
  },
  {
   "cell_type": "markdown",
   "id": "50bc24a0-62c2-4c48-b6f9-ba28b0551bde",
   "metadata": {},
   "source": [
    "A pass of the data through the model will return the X and W tensors passed through the model, after a full sampling of the model."
   ]
  },
  {
   "cell_type": "code",
   "execution_count": 9,
   "id": "2832889c-6b3b-4bb9-8f02-6781b19206cf",
   "metadata": {},
   "outputs": [
    {
     "name": "stdout",
     "output_type": "stream",
     "text": [
      "Intel MKL WARNING: Support of Intel(R) Streaming SIMD Extensions 4.2 (Intel(R) SSE4.2) enabled only processors has been deprecated. Intel oneAPI Math Kernel Library 2025.0 will require Intel(R) Advanced Vector Extensions (Intel(R) AVX) instructions.\n"
     ]
    },
    {
     "data": {
      "text/plain": [
       "(tensor([[0., 0., 0.,  ..., 0., 1., 0.],\n",
       "         [0., 0., 0.,  ..., 0., 0., 0.],\n",
       "         [0., 0., 0.,  ..., 0., 0., 0.],\n",
       "         ...,\n",
       "         [0., 0., 0.,  ..., 0., 0., 0.],\n",
       "         [0., 0., 0.,  ..., 0., 0., 0.],\n",
       "         [0., 0., 0.,  ..., 0., 0., 0.]]),\n",
       " tensor([0.1413, 1.0000, 1.0000,  ..., 3.0000, 3.0000, 3.0000]))"
      ]
     },
     "execution_count": 9,
     "metadata": {},
     "output_type": "execute_result"
    }
   ],
   "source": [
    "echidna.model(*data)"
   ]
  },
  {
   "cell_type": "code",
   "execution_count": 10,
   "id": "68efcf66-f9c6-4c1b-b578-a1c605ad32ee",
   "metadata": {},
   "outputs": [],
   "source": [
    "echidna.guide(*data)"
   ]
  },
  {
   "cell_type": "markdown",
   "id": "3d9c2395-7b48-400a-97af-b3a15d2fbb36",
   "metadata": {},
   "source": [
    "This function uses poutine to trace the guide with the data, replay the model with that guide, and finally return nodes from the trace of the replay with the data. See for example a sampled $\\eta$ compared to the ground truth of many averaged samples."
   ]
  },
  {
   "cell_type": "code",
   "execution_count": 11,
   "id": "5381251c-42af-4c2e-9ecb-13ac8e5b884b",
   "metadata": {},
   "outputs": [],
   "source": [
    "learned_params = ec.tl.get_learned_params(echidna, data)"
   ]
  },
  {
   "cell_type": "code",
   "execution_count": 12,
   "id": "5c8eedcc-49fa-4756-9751-54bcc1a4a68d",
   "metadata": {},
   "outputs": [
    {
     "data": {
      "text/plain": [
       "(tensor([[-0.7405, -0.9719, -0.0742,  ...,  0.2652,  2.7870,  0.5386],\n",
       "         [-1.0875, -0.5485, -1.0295,  ...,  0.3954,  0.3113,  1.5511],\n",
       "         [-0.0624, -0.1475, -0.2463,  ..., -0.3997,  0.6911,  1.1359],\n",
       "         ...,\n",
       "         [ 1.8684,  2.3558,  2.1578,  ...,  3.3801,  2.0947,  2.6765],\n",
       "         [ 2.2723,  1.7335,  1.1958,  ...,  2.1342,  1.5169,  0.5055],\n",
       "         [ 2.0608,  0.9850,  1.6464,  ...,  2.3175,  0.7653,  2.6031]],\n",
       "        grad_fn=<AddBackward0>),\n",
       " tensor([[0.3285, 0.3108, 0.7245,  ..., 1.9894, 2.6318, 2.2516],\n",
       "         [0.2480, 0.3777, 0.6065,  ..., 2.5768, 1.9483, 1.6197],\n",
       "         [0.2685, 0.4418, 0.6654,  ..., 2.4282, 1.9220, 1.3426],\n",
       "         ...,\n",
       "         [0.7181, 1.6986, 0.8640,  ..., 2.3416, 1.3837, 1.7297],\n",
       "         [2.5549, 1.5685, 0.8891,  ..., 1.3954, 1.2125, 1.7350],\n",
       "         [0.5228, 1.6219, 1.0226,  ..., 2.5157, 0.7609, 2.4471]],\n",
       "        requires_grad=True))"
      ]
     },
     "execution_count": 12,
     "metadata": {},
     "output_type": "execute_result"
    }
   ],
   "source": [
    "learned_params[\"eta\"][\"value\"], eta"
   ]
  },
  {
   "cell_type": "markdown",
   "id": "e8a6af7a-b696-4ae3-bb91-21a69a6d89ed",
   "metadata": {},
   "source": [
    "The rest of the problem, as they say, is behind the keyboard."
   ]
  }
 ],
 "metadata": {
  "kernelspec": {
   "display_name": "echidna",
   "language": "python",
   "name": "python3"
  },
  "language_info": {
   "codemirror_mode": {
    "name": "ipython",
    "version": 3
   },
   "file_extension": ".py",
   "mimetype": "text/x-python",
   "name": "python",
   "nbconvert_exporter": "python",
   "pygments_lexer": "ipython3",
   "version": "3.12.4"
  }
 },
 "nbformat": 4,
 "nbformat_minor": 5
}
